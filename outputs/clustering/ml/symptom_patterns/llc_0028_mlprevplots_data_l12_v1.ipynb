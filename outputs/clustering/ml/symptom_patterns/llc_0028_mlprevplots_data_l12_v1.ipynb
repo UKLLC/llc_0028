{
 "cells": [
  {
   "cell_type": "markdown",
   "id": "13f881f6",
   "metadata": {},
   "source": [
    "# Prevalence plots: Covid < 12 weeks ago "
   ]
  },
  {
   "cell_type": "markdown",
   "id": "21ab6c13",
   "metadata": {},
   "source": [
    "This notebook contains a series of heatmaps to visualise patterns of self reported symptoms within clusters identified by DBSCAN and Agglomerative algorithms (see `llc_0028_mleval_l12_data_v1.ipynb`).\n",
    "\n",
    "The color scale in each figure represents the proportion of participants within each cluster that reported each symptom. Cluster sizes are all $\\geq$ 5% of study size. For this sample, all studies have $>$ 170 participants, therefore these values are not disclosive. \n",
    "\n",
    "For the final set of plots (`pooled*`), while some clusters are less than 5% of the sample, this represents results from combining all studies into a single dataset, with over 1,000 participants. Therefore these numbers, although smaller than 5%, are also not disclosive."
   ]
  },
  {
   "cell_type": "code",
   "execution_count": null,
   "id": "45a44119",
   "metadata": {},
   "outputs": [],
   "source": [
    "%run llc_0028_evalfuncs_syntax_v1.ipynb"
   ]
  },
  {
   "cell_type": "code",
   "execution_count": null,
   "id": "8f341efe",
   "metadata": {},
   "outputs": [],
   "source": [
    "os.chdir('S:/LLC_0028/data/clustering/')\n",
    "sample = 'l12'\n",
    "covid_status=1"
   ]
  },
  {
   "cell_type": "code",
   "execution_count": null,
   "id": "63c07b68",
   "metadata": {},
   "outputs": [],
   "source": [
    "results = pd.read_csv(f'./results/llc_0028_best_params_ml_{sample}_v1.csv',index_col=0)"
   ]
  },
  {
   "cell_type": "markdown",
   "id": "2cfda88d",
   "metadata": {},
   "source": [
    "## ALSPAC "
   ]
  },
  {
   "cell_type": "markdown",
   "id": "44f01e3b",
   "metadata": {},
   "source": [
    "### Core "
   ]
  },
  {
   "cell_type": "markdown",
   "id": "90cf13f3",
   "metadata": {},
   "source": [
    "#### DBSCAN"
   ]
  },
  {
   "cell_type": "raw",
   "id": "d97fe820",
   "metadata": {},
   "source": [
    "study = 'alspac'\n",
    "study_f =sample +  '_' + study\n",
    "\n",
    "params = results.loc[(results.study==study_f) & (results.type=='core')].param.iloc[0]\n",
    "algorithms = results.loc[(results.study==study_f) & (results.type=='core')].algorithm.iloc[0]\n",
    "\n",
    "p = plot_prevalence(study, str(params), algorithms, covid_status, sample, core=True)"
   ]
  },
  {
   "cell_type": "markdown",
   "id": "7c3d7818",
   "metadata": {},
   "source": [
    "#### Cluster sizes "
   ]
  },
  {
   "cell_type": "raw",
   "id": "42e81137",
   "metadata": {},
   "source": [
    "print_cluster_size(p)"
   ]
  },
  {
   "cell_type": "markdown",
   "id": "2f2f8126",
   "metadata": {},
   "source": [
    "#### Agglomerative "
   ]
  },
  {
   "cell_type": "raw",
   "id": "f7ae8e06",
   "metadata": {},
   "source": [
    "params = results.loc[(results.study==study_f) & (results.type=='core')].param.iloc[1].astype(int)\n",
    "algorithms = results.loc[(results.study==study_f) & (results.type=='core')].algorithm.iloc[1]\n",
    "\n",
    "p = plot_prevalence(study, str(params), algorithms, covid_status, sample,core=True)"
   ]
  },
  {
   "cell_type": "markdown",
   "id": "ee51b96b",
   "metadata": {},
   "source": [
    "#### Cluster sizes "
   ]
  },
  {
   "cell_type": "raw",
   "id": "ef8a8641",
   "metadata": {},
   "source": [
    "print_cluster_size(p)"
   ]
  },
  {
   "cell_type": "markdown",
   "id": "7652b0e2",
   "metadata": {},
   "source": [
    "### Maximal "
   ]
  },
  {
   "cell_type": "markdown",
   "id": "a02ebdd0",
   "metadata": {},
   "source": [
    "#### DBSCAN"
   ]
  },
  {
   "cell_type": "raw",
   "id": "297bddda",
   "metadata": {},
   "source": [
    "params = results.loc[(results.study==study_f) & (results.type=='maximal')].param.iloc[0]\n",
    "algorithms = results.loc[(results.study==study_f) & (results.type=='maximal')].algorithm.iloc[0]\n",
    "\n",
    "p = plot_prevalence(study, str(params), algorithms, covid_status, sample)"
   ]
  },
  {
   "cell_type": "markdown",
   "id": "0323d220",
   "metadata": {},
   "source": [
    "#### Cluster sizes "
   ]
  },
  {
   "cell_type": "raw",
   "id": "f4bf4b25",
   "metadata": {},
   "source": [
    "print_cluster_size(p)"
   ]
  },
  {
   "cell_type": "markdown",
   "id": "6c238421",
   "metadata": {},
   "source": [
    "#### Agglomerative "
   ]
  },
  {
   "cell_type": "raw",
   "id": "1a41faaf",
   "metadata": {},
   "source": [
    "params = results.loc[(results.study==study_f) & (results.type=='maximal')].param.iloc[1].astype(int)\n",
    "algorithms = results.loc[(results.study==study_f) & (results.type=='maximal')].algorithm.iloc[1]\n",
    "\n",
    "p = plot_prevalence(study, str(params), algorithms, covid_status, sample)"
   ]
  },
  {
   "cell_type": "markdown",
   "id": "4a326d62",
   "metadata": {},
   "source": [
    "#### Cluster sizes "
   ]
  },
  {
   "cell_type": "raw",
   "id": "6a23d310",
   "metadata": {},
   "source": [
    "print_cluster_size(p)"
   ]
  },
  {
   "cell_type": "markdown",
   "id": "3a4bd8db",
   "metadata": {},
   "source": [
    "## BIB "
   ]
  },
  {
   "cell_type": "markdown",
   "id": "f8ff5781",
   "metadata": {},
   "source": [
    "### Core "
   ]
  },
  {
   "cell_type": "markdown",
   "id": "c2feac20",
   "metadata": {},
   "source": [
    "#### DBSCAN"
   ]
  },
  {
   "cell_type": "raw",
   "id": "f03b14df",
   "metadata": {},
   "source": [
    "study = 'bib'\n",
    "study_f = sample + '_bib'\n",
    "\n",
    "params = results.loc[(results.study==study_f) & (results.type=='core')].param.iloc[0]\n",
    "algorithms = results.loc[(results.study==study_f) & (results.type=='core')].algorithm.iloc[0]\n",
    "\n",
    "p = plot_prevalence(study, str(params), algorithms, covid_status, sample, core=True)"
   ]
  },
  {
   "cell_type": "markdown",
   "id": "e3a58b8d",
   "metadata": {},
   "source": [
    "#### Cluster sizes "
   ]
  },
  {
   "cell_type": "raw",
   "id": "f22fdaf7",
   "metadata": {},
   "source": [
    "print_cluster_size(p)"
   ]
  },
  {
   "cell_type": "markdown",
   "id": "e40a3dc7",
   "metadata": {},
   "source": [
    "#### Agglomerative "
   ]
  },
  {
   "cell_type": "raw",
   "id": "622ea0a0",
   "metadata": {},
   "source": [
    "params = results.loc[(results.study==study_f) & (results.type=='core')].param.iloc[1].astype(int)\n",
    "algorithms = results.loc[(results.study==study_f) & (results.type=='core')].algorithm.iloc[1]\n",
    "\n",
    "p = plot_prevalence(study, str(params), algorithms, covid_status, sample, core=True)"
   ]
  },
  {
   "cell_type": "markdown",
   "id": "7f8987ed",
   "metadata": {},
   "source": [
    "#### Cluster sizes "
   ]
  },
  {
   "cell_type": "raw",
   "id": "8e15ec09",
   "metadata": {},
   "source": [
    "print_cluster_size(p)"
   ]
  },
  {
   "cell_type": "markdown",
   "id": "a73d096a",
   "metadata": {},
   "source": [
    "### Maximal "
   ]
  },
  {
   "cell_type": "markdown",
   "id": "4f5d957f",
   "metadata": {},
   "source": [
    "#### DBSCAN"
   ]
  },
  {
   "cell_type": "raw",
   "id": "cbdb2c9b",
   "metadata": {},
   "source": [
    "params = results.loc[(results.study==study_f) & (results.type=='maximal')].param.iloc[0]\n",
    "algorithms = results.loc[(results.study==study_f) & (results.type=='maximal')].algorithm.iloc[0]\n",
    "\n",
    "p = plot_prevalence(study, str(params), algorithms, covid_status, sample)"
   ]
  },
  {
   "cell_type": "markdown",
   "id": "deba7d14",
   "metadata": {},
   "source": [
    "#### Cluster sizes "
   ]
  },
  {
   "cell_type": "raw",
   "id": "e4b868eb",
   "metadata": {},
   "source": [
    "print_cluster_size(p)"
   ]
  },
  {
   "cell_type": "markdown",
   "id": "6e04f0ac",
   "metadata": {},
   "source": [
    "#### Agglomerative "
   ]
  },
  {
   "cell_type": "raw",
   "id": "fe797361",
   "metadata": {},
   "source": [
    "params = results.loc[(results.study==study_f) & (results.type=='maximal')].param.iloc[1].astype(int)\n",
    "algorithms = results.loc[(results.study==study_f) & (results.type=='maximal')].algorithm.iloc[1]\n",
    "\n",
    "p = plot_prevalence(study, str(params), algorithms, covid_status, sample)"
   ]
  },
  {
   "cell_type": "markdown",
   "id": "c9aa1cd8",
   "metadata": {},
   "source": [
    "#### Cluster sizes "
   ]
  },
  {
   "cell_type": "raw",
   "id": "764650a9",
   "metadata": {},
   "source": [
    "print_cluster_size(p)"
   ]
  },
  {
   "cell_type": "markdown",
   "id": "f104226a",
   "metadata": {},
   "source": [
    "## NCDS "
   ]
  },
  {
   "cell_type": "markdown",
   "id": "87f41650",
   "metadata": {},
   "source": [
    "### Core "
   ]
  },
  {
   "cell_type": "markdown",
   "id": "76abbcc5",
   "metadata": {},
   "source": [
    "#### DBSCAN"
   ]
  },
  {
   "cell_type": "code",
   "execution_count": null,
   "id": "0826c2c2",
   "metadata": {},
   "outputs": [],
   "source": [
    "study = 'ncds'\n",
    "study_f = sample + '_' + study\n",
    "\n",
    "params = results.loc[(results.study==study_f) & (results.type=='core')].param.iloc[0]\n",
    "algorithms = results.loc[(results.study==study_f) & (results.type=='core')].algorithm.iloc[0]\n",
    "\n",
    "p = plot_prevalence(study, str(params), algorithms, covid_status, sample, core=True)"
   ]
  },
  {
   "cell_type": "markdown",
   "id": "0a3063a2",
   "metadata": {},
   "source": [
    "#### Cluster sizes "
   ]
  },
  {
   "cell_type": "code",
   "execution_count": null,
   "id": "774eea5b",
   "metadata": {},
   "outputs": [],
   "source": [
    "print_cluster_size(p)"
   ]
  },
  {
   "cell_type": "markdown",
   "id": "5eb7dd65",
   "metadata": {},
   "source": [
    "#### Agglomerative "
   ]
  },
  {
   "cell_type": "code",
   "execution_count": null,
   "id": "a39851be",
   "metadata": {},
   "outputs": [],
   "source": [
    "params = results.loc[(results.study==study_f) & (results.type=='core')].param.iloc[1].astype(int)\n",
    "algorithms = results.loc[(results.study==study_f) & (results.type=='core')].algorithm.iloc[1]\n",
    "\n",
    "p = plot_prevalence(study, str(params), algorithms, covid_status, sample,core=True)"
   ]
  },
  {
   "cell_type": "markdown",
   "id": "576b25ef",
   "metadata": {},
   "source": [
    "#### Cluster sizes "
   ]
  },
  {
   "cell_type": "code",
   "execution_count": null,
   "id": "5ad0b188",
   "metadata": {},
   "outputs": [],
   "source": [
    "print_cluster_size(p)"
   ]
  },
  {
   "cell_type": "markdown",
   "id": "f98772da",
   "metadata": {},
   "source": [
    "### Maximal "
   ]
  },
  {
   "cell_type": "markdown",
   "id": "6179544a",
   "metadata": {},
   "source": [
    "#### DBSCAN"
   ]
  },
  {
   "cell_type": "code",
   "execution_count": null,
   "id": "e12a1bc3",
   "metadata": {},
   "outputs": [],
   "source": [
    "params = results.loc[(results.study==study_f) & (results.type=='maximal')].param.iloc[0]\n",
    "algorithms = results.loc[(results.study==study_f) & (results.type=='maximal')].algorithm.iloc[0]\n",
    "\n",
    "p = plot_prevalence(study, str(params), algorithms, covid_status, sample)"
   ]
  },
  {
   "cell_type": "markdown",
   "id": "efc6bae5",
   "metadata": {},
   "source": [
    "#### Cluster sizes "
   ]
  },
  {
   "cell_type": "code",
   "execution_count": null,
   "id": "a0b097ab",
   "metadata": {},
   "outputs": [],
   "source": [
    "print_cluster_size(p)"
   ]
  },
  {
   "cell_type": "markdown",
   "id": "a5b892d4",
   "metadata": {},
   "source": [
    "#### Agglomerative "
   ]
  },
  {
   "cell_type": "code",
   "execution_count": null,
   "id": "60be11a8",
   "metadata": {},
   "outputs": [],
   "source": [
    "params = results.loc[(results.study==study_f) & (results.type=='maximal')].param.iloc[1].astype(int)\n",
    "algorithms = results.loc[(results.study==study_f) & (results.type=='maximal')].algorithm.iloc[1]\n",
    "\n",
    "p = plot_prevalence(study, str(params), algorithms, covid_status, sample)"
   ]
  },
  {
   "cell_type": "markdown",
   "id": "70f7d827",
   "metadata": {},
   "source": [
    "#### Cluster sizes "
   ]
  },
  {
   "cell_type": "code",
   "execution_count": null,
   "id": "0b201bbc",
   "metadata": {},
   "outputs": [],
   "source": [
    "print_cluster_size(p)"
   ]
  },
  {
   "cell_type": "markdown",
   "id": "a3e38a53",
   "metadata": {},
   "source": [
    "## MCS "
   ]
  },
  {
   "cell_type": "markdown",
   "id": "04e28ac0",
   "metadata": {},
   "source": [
    "### Core "
   ]
  },
  {
   "cell_type": "markdown",
   "id": "c21c53ef",
   "metadata": {},
   "source": [
    "#### DBSCAN"
   ]
  },
  {
   "cell_type": "code",
   "execution_count": null,
   "id": "463e1d04",
   "metadata": {},
   "outputs": [],
   "source": [
    "study = 'mcs'\n",
    "study_f = sample + '_' + study\n",
    "\n",
    "params = results.loc[(results.study==study_f) & (results.type=='core')].param.iloc[0]\n",
    "algorithms = results.loc[(results.study==study_f) & (results.type=='core')].algorithm.iloc[0]\n",
    "\n",
    "p = plot_prevalence(study, str(params), algorithms, covid_status, sample, core=True)"
   ]
  },
  {
   "cell_type": "markdown",
   "id": "8e0d9b38",
   "metadata": {},
   "source": [
    "#### Cluster sizes "
   ]
  },
  {
   "cell_type": "code",
   "execution_count": null,
   "id": "91885794",
   "metadata": {},
   "outputs": [],
   "source": [
    "print_cluster_size(p)"
   ]
  },
  {
   "cell_type": "markdown",
   "id": "4c60821d",
   "metadata": {},
   "source": [
    "#### Agglomerative "
   ]
  },
  {
   "cell_type": "code",
   "execution_count": null,
   "id": "54c1b24e",
   "metadata": {},
   "outputs": [],
   "source": [
    "params = results.loc[(results.study==study_f) & (results.type=='core')].param.iloc[1].astype(int)\n",
    "algorithms = results.loc[(results.study==study_f) & (results.type=='core')].algorithm.iloc[1]\n",
    "\n",
    "p = plot_prevalence(study, str(params), algorithms, covid_status, sample, core=True)"
   ]
  },
  {
   "cell_type": "markdown",
   "id": "9edc7226",
   "metadata": {},
   "source": [
    "#### Cluster sizes "
   ]
  },
  {
   "cell_type": "code",
   "execution_count": null,
   "id": "5ded27f9",
   "metadata": {},
   "outputs": [],
   "source": [
    "print_cluster_size(p)"
   ]
  },
  {
   "cell_type": "markdown",
   "id": "a2274162",
   "metadata": {},
   "source": [
    "### Maximal "
   ]
  },
  {
   "cell_type": "markdown",
   "id": "cb7ec9ef",
   "metadata": {},
   "source": [
    "#### DBSCAN"
   ]
  },
  {
   "cell_type": "code",
   "execution_count": null,
   "id": "356c529b",
   "metadata": {},
   "outputs": [],
   "source": [
    "params = results.loc[(results.study==study_f) & (results.type=='maximal')].param.iloc[0]\n",
    "algorithms = results.loc[(results.study==study_f) & (results.type=='maximal')].algorithm.iloc[0]\n",
    "\n",
    "p = plot_prevalence(study, str(params), algorithms, covid_status, sample)"
   ]
  },
  {
   "cell_type": "markdown",
   "id": "90f0732b",
   "metadata": {},
   "source": [
    "#### Cluster sizes "
   ]
  },
  {
   "cell_type": "code",
   "execution_count": null,
   "id": "176934d5",
   "metadata": {},
   "outputs": [],
   "source": [
    "print_cluster_size(p)"
   ]
  },
  {
   "cell_type": "markdown",
   "id": "1395fdd8",
   "metadata": {},
   "source": [
    "#### Agglomerative "
   ]
  },
  {
   "cell_type": "code",
   "execution_count": null,
   "id": "778c051c",
   "metadata": {},
   "outputs": [],
   "source": [
    "params = results.loc[(results.study==study_f) & (results.type=='maximal')].param.iloc[1].astype(int)\n",
    "algorithms = results.loc[(results.study==study_f) & (results.type=='maximal')].algorithm.iloc[1]\n",
    "\n",
    "p = plot_prevalence(study, str(params), algorithms, covid_status, sample)"
   ]
  },
  {
   "cell_type": "markdown",
   "id": "6d060294",
   "metadata": {},
   "source": [
    "#### Cluster sizes "
   ]
  },
  {
   "cell_type": "code",
   "execution_count": null,
   "id": "5ef56057",
   "metadata": {},
   "outputs": [],
   "source": [
    "print_cluster_size(p)"
   ]
  },
  {
   "cell_type": "markdown",
   "id": "cf7d393b",
   "metadata": {},
   "source": [
    "## BCS70"
   ]
  },
  {
   "cell_type": "markdown",
   "id": "8673cf32",
   "metadata": {},
   "source": [
    "### Core "
   ]
  },
  {
   "cell_type": "markdown",
   "id": "632543ac",
   "metadata": {},
   "source": [
    "#### DBSCAN"
   ]
  },
  {
   "cell_type": "code",
   "execution_count": null,
   "id": "bd299272",
   "metadata": {},
   "outputs": [],
   "source": [
    "study = 'bcs70'\n",
    "study_f = sample + '_' + study\n",
    "params = results.loc[(results.study==study_f) & (results.type=='core')].param.iloc[0]\n",
    "algorithms = results.loc[(results.study==study_f) & (results.type=='core')].algorithm.iloc[0]\n",
    "\n",
    "p = plot_prevalence(study, str(params), algorithms, covid_status, sample, core=True)"
   ]
  },
  {
   "cell_type": "markdown",
   "id": "921d0857",
   "metadata": {},
   "source": [
    "#### Cluster sizes "
   ]
  },
  {
   "cell_type": "code",
   "execution_count": null,
   "id": "1ff469f5",
   "metadata": {},
   "outputs": [],
   "source": [
    "print_cluster_size(p)"
   ]
  },
  {
   "cell_type": "markdown",
   "id": "3c4079fb",
   "metadata": {},
   "source": [
    "#### Agglomerative "
   ]
  },
  {
   "cell_type": "code",
   "execution_count": null,
   "id": "7533dfef",
   "metadata": {},
   "outputs": [],
   "source": [
    "params = results.loc[(results.study==study_f) & (results.type=='core')].param.iloc[1].astype(int)\n",
    "algorithms = results.loc[(results.study==study_f) & (results.type=='core')].algorithm.iloc[1]\n",
    "\n",
    "p = plot_prevalence(study, str(params), algorithms,covid_status, sample, core=True)"
   ]
  },
  {
   "cell_type": "markdown",
   "id": "6b373554",
   "metadata": {},
   "source": [
    "#### Cluster sizes "
   ]
  },
  {
   "cell_type": "code",
   "execution_count": null,
   "id": "bad19538",
   "metadata": {},
   "outputs": [],
   "source": [
    "print_cluster_size(p)"
   ]
  },
  {
   "cell_type": "markdown",
   "id": "4495da39",
   "metadata": {},
   "source": [
    "### Maximal "
   ]
  },
  {
   "cell_type": "markdown",
   "id": "ed0d094a",
   "metadata": {},
   "source": [
    "#### DBSCAN"
   ]
  },
  {
   "cell_type": "code",
   "execution_count": null,
   "id": "31ac5c79",
   "metadata": {},
   "outputs": [],
   "source": [
    "params = results.loc[(results.study==study_f) & (results.type=='maximal')].param.iloc[0]\n",
    "algorithms = results.loc[(results.study==study_f) & (results.type=='maximal')].algorithm.iloc[0]\n",
    "\n",
    "p = plot_prevalence(study, str(params), algorithms, covid_status, sample)"
   ]
  },
  {
   "cell_type": "markdown",
   "id": "be0a712a",
   "metadata": {},
   "source": [
    "#### Cluster sizes "
   ]
  },
  {
   "cell_type": "code",
   "execution_count": null,
   "id": "5ee86e7f",
   "metadata": {},
   "outputs": [],
   "source": [
    "print_cluster_size(p)"
   ]
  },
  {
   "cell_type": "markdown",
   "id": "fa16a982",
   "metadata": {},
   "source": [
    "#### Agglomerative "
   ]
  },
  {
   "cell_type": "code",
   "execution_count": null,
   "id": "4cfbf67b",
   "metadata": {},
   "outputs": [],
   "source": [
    "params = results.loc[(results.study==study_f) & (results.type=='maximal')].param.iloc[1].astype(int)\n",
    "algorithms = results.loc[(results.study==study_f) & (results.type=='maximal')].algorithm.iloc[1]\n",
    "\n",
    "p = plot_prevalence(study, str(params), algorithms, covid_status, sample)"
   ]
  },
  {
   "cell_type": "markdown",
   "id": "3d8de17a",
   "metadata": {},
   "source": [
    "#### Cluster sizes "
   ]
  },
  {
   "cell_type": "code",
   "execution_count": null,
   "id": "e1bb09c6",
   "metadata": {},
   "outputs": [],
   "source": [
    "print_cluster_size(p)"
   ]
  },
  {
   "cell_type": "markdown",
   "id": "29b2aab8",
   "metadata": {},
   "source": [
    "## Twins "
   ]
  },
  {
   "cell_type": "markdown",
   "id": "62c19e75",
   "metadata": {},
   "source": [
    "### Core "
   ]
  },
  {
   "cell_type": "markdown",
   "id": "44d753ab",
   "metadata": {},
   "source": [
    "#### DBSCAN"
   ]
  },
  {
   "cell_type": "raw",
   "id": "3ba2dde2",
   "metadata": {},
   "source": [
    "study = 'twins'\n",
    "study_f = sample + '_' + study\n",
    "params = results.loc[(results.study==study_f) & (results.type=='core')].param.iloc[0]\n",
    "algorithms = results.loc[(results.study==study_f) & (results.type=='core')].algorithm.iloc[0]\n",
    "\n",
    "p = plot_prevalence(study, str(params), algorithms, covid_status, sample, core=True)"
   ]
  },
  {
   "cell_type": "markdown",
   "id": "6c039374",
   "metadata": {},
   "source": [
    "#### Cluster sizes "
   ]
  },
  {
   "cell_type": "raw",
   "id": "164c58c3",
   "metadata": {},
   "source": [
    "print_cluster_size(p)"
   ]
  },
  {
   "cell_type": "markdown",
   "id": "85d2494e",
   "metadata": {},
   "source": [
    "#### Agglomerative "
   ]
  },
  {
   "cell_type": "raw",
   "id": "ff42789e",
   "metadata": {},
   "source": [
    "params = results.loc[(results.study==study_f) & (results.type=='core')].param.iloc[1].astype(int)\n",
    "algorithms = results.loc[(results.study==study_f) & (results.type=='core')].algorithm.iloc[1]\n",
    "\n",
    "p = plot_prevalence(study, str(params), algorithms, covid_status, sample,core=True)"
   ]
  },
  {
   "cell_type": "markdown",
   "id": "c2654597",
   "metadata": {},
   "source": [
    "#### Cluster sizes "
   ]
  },
  {
   "cell_type": "raw",
   "id": "c3a003ef",
   "metadata": {},
   "source": [
    "print_cluster_size(p)"
   ]
  },
  {
   "cell_type": "markdown",
   "id": "bcb85954",
   "metadata": {},
   "source": [
    "### Maximal "
   ]
  },
  {
   "cell_type": "markdown",
   "id": "ea607db3",
   "metadata": {},
   "source": [
    "#### DBSCAN"
   ]
  },
  {
   "cell_type": "raw",
   "id": "2dbf3315",
   "metadata": {},
   "source": [
    "params = results.loc[(results.study==study_f) & (results.type=='maximal')].param.iloc[0]\n",
    "algorithms = results.loc[(results.study==study_f) & (results.type=='maximal')].algorithm.iloc[0]\n",
    "\n",
    "p = plot_prevalence(study, str(params), algorithms, covid_status, sample)"
   ]
  },
  {
   "cell_type": "markdown",
   "id": "faa00b02",
   "metadata": {},
   "source": [
    "#### Cluster sizes "
   ]
  },
  {
   "cell_type": "raw",
   "id": "cebb12b5",
   "metadata": {},
   "source": [
    "print_cluster_size(p)"
   ]
  },
  {
   "cell_type": "markdown",
   "id": "a19f7ed4",
   "metadata": {},
   "source": [
    "#### Agglomerative "
   ]
  },
  {
   "cell_type": "raw",
   "id": "4eef50d0",
   "metadata": {},
   "source": [
    "params = results.loc[(results.study==study_f) & (results.type=='maximal')].param.iloc[1].astype(int)\n",
    "algorithms = results.loc[(results.study==study_f) & (results.type=='maximal')].algorithm.iloc[1]\n",
    "\n",
    "p = plot_prevalence(study, str(params), algorithms, covid_status, sample)"
   ]
  },
  {
   "cell_type": "markdown",
   "id": "72d64160",
   "metadata": {},
   "source": [
    "#### Cluster sizes "
   ]
  },
  {
   "cell_type": "raw",
   "id": "36592058",
   "metadata": {},
   "source": [
    "print_cluster_size(p)"
   ]
  },
  {
   "cell_type": "markdown",
   "id": "920e7304",
   "metadata": {},
   "source": [
    "## NextStep "
   ]
  },
  {
   "cell_type": "markdown",
   "id": "a24d9432",
   "metadata": {},
   "source": [
    "### Core "
   ]
  },
  {
   "cell_type": "markdown",
   "id": "077ffa9b",
   "metadata": {},
   "source": [
    "#### DBSCAN"
   ]
  },
  {
   "cell_type": "code",
   "execution_count": null,
   "id": "20d60705",
   "metadata": {},
   "outputs": [],
   "source": [
    "study = 'nextstep'\n",
    "study_f = sample + '_' + study\n",
    "\n",
    "params = results.loc[(results.study==study_f) & (results.type=='core')].param.iloc[0]\n",
    "algorithms = results.loc[(results.study==study_f) & (results.type=='core')].algorithm.iloc[0]\n",
    "\n",
    "p = plot_prevalence(study, str(params), algorithms, covid_status, sample, core=True)"
   ]
  },
  {
   "cell_type": "markdown",
   "id": "29a31666",
   "metadata": {},
   "source": [
    "#### Cluster sizes "
   ]
  },
  {
   "cell_type": "code",
   "execution_count": null,
   "id": "24a0d8d2",
   "metadata": {},
   "outputs": [],
   "source": [
    "print_cluster_size(p)"
   ]
  },
  {
   "cell_type": "markdown",
   "id": "9b28acb4",
   "metadata": {},
   "source": [
    "#### Agglomerative "
   ]
  },
  {
   "cell_type": "code",
   "execution_count": null,
   "id": "9f762be6",
   "metadata": {},
   "outputs": [],
   "source": [
    "params = results.loc[(results.study==study_f) & (results.type=='core')].param.iloc[1].astype(int)\n",
    "algorithms = results.loc[(results.study==study_f) & (results.type=='core')].algorithm.iloc[1]\n",
    "\n",
    "p = plot_prevalence(study, str(params), algorithms, covid_status, sample,core=True)"
   ]
  },
  {
   "cell_type": "markdown",
   "id": "06aa73e5",
   "metadata": {},
   "source": [
    "#### Cluster sizes "
   ]
  },
  {
   "cell_type": "code",
   "execution_count": null,
   "id": "9ce6adc5",
   "metadata": {},
   "outputs": [],
   "source": [
    "print_cluster_size(p)"
   ]
  },
  {
   "cell_type": "markdown",
   "id": "da9d2e52",
   "metadata": {},
   "source": [
    "### Maximal "
   ]
  },
  {
   "cell_type": "markdown",
   "id": "56067dea",
   "metadata": {},
   "source": [
    "#### DBSCAN"
   ]
  },
  {
   "cell_type": "code",
   "execution_count": null,
   "id": "1fa152e6",
   "metadata": {},
   "outputs": [],
   "source": [
    "params = results.loc[(results.study==study_f) & (results.type=='maximal')].param.iloc[0]\n",
    "algorithms = results.loc[(results.study==study_f) & (results.type=='maximal')].algorithm.iloc[0]\n",
    "\n",
    "p = plot_prevalence(study, str(params), algorithms, covid_status, sample)"
   ]
  },
  {
   "cell_type": "markdown",
   "id": "94c57794",
   "metadata": {},
   "source": [
    "#### Cluster sizes "
   ]
  },
  {
   "cell_type": "code",
   "execution_count": null,
   "id": "a74f481b",
   "metadata": {},
   "outputs": [],
   "source": [
    "print_cluster_size(p)"
   ]
  },
  {
   "cell_type": "markdown",
   "id": "7ec0ea17",
   "metadata": {},
   "source": [
    "#### Agglomerative "
   ]
  },
  {
   "cell_type": "code",
   "execution_count": null,
   "id": "1fa16044",
   "metadata": {},
   "outputs": [],
   "source": [
    "params = results.loc[(results.study==study_f) & (results.type=='maximal')].param.iloc[1].astype(int)\n",
    "algorithms = results.loc[(results.study==study_f) & (results.type=='maximal')].algorithm.iloc[1]\n",
    "\n",
    "p = plot_prevalence(study, str(params), algorithms, covid_status, sample)"
   ]
  },
  {
   "cell_type": "markdown",
   "id": "1fbe3762",
   "metadata": {},
   "source": [
    "#### Cluster sizes "
   ]
  },
  {
   "cell_type": "code",
   "execution_count": null,
   "id": "d3826ffd",
   "metadata": {},
   "outputs": [],
   "source": [
    "print_cluster_size(p)"
   ]
  },
  {
   "cell_type": "markdown",
   "id": "04114bd6",
   "metadata": {},
   "source": [
    "## Track19 "
   ]
  },
  {
   "cell_type": "markdown",
   "id": "ef9b7f8b",
   "metadata": {},
   "source": [
    "### Core "
   ]
  },
  {
   "cell_type": "markdown",
   "id": "a88a1423",
   "metadata": {},
   "source": [
    "#### DBSCAN"
   ]
  },
  {
   "cell_type": "code",
   "execution_count": null,
   "id": "461860c0",
   "metadata": {},
   "outputs": [],
   "source": [
    "study = 'track19'\n",
    "study_f = sample + '_' + study\n",
    "\n",
    "params = results.loc[(results.study==study_f) & (results.type=='core')].param.iloc[0]\n",
    "algorithms = results.loc[(results.study==study_f) & (results.type=='core')].algorithm.iloc[0]\n",
    "\n",
    "p = plot_prevalence(study, str(params), algorithms, covid_status, sample, core=True)"
   ]
  },
  {
   "cell_type": "markdown",
   "id": "201d2b25",
   "metadata": {},
   "source": [
    "#### Cluster sizes "
   ]
  },
  {
   "cell_type": "code",
   "execution_count": null,
   "id": "c589de45",
   "metadata": {},
   "outputs": [],
   "source": [
    "print_cluster_size(p)"
   ]
  },
  {
   "cell_type": "markdown",
   "id": "02c52642",
   "metadata": {},
   "source": [
    "#### Agglomerative "
   ]
  },
  {
   "cell_type": "code",
   "execution_count": null,
   "id": "be5c51a0",
   "metadata": {},
   "outputs": [],
   "source": [
    "params = results.loc[(results.study==study_f) & (results.type=='core')].param.iloc[1].astype(int)\n",
    "algorithms = results.loc[(results.study==study_f) & (results.type=='core')].algorithm.iloc[1]\n",
    "\n",
    "p = plot_prevalence(study, str(params), algorithms, covid_status, sample,core=True)"
   ]
  },
  {
   "cell_type": "markdown",
   "id": "1b8dd72c",
   "metadata": {},
   "source": [
    "#### Cluster sizes "
   ]
  },
  {
   "cell_type": "code",
   "execution_count": null,
   "id": "6fc71dfe",
   "metadata": {},
   "outputs": [],
   "source": [
    "print_cluster_size(p)"
   ]
  },
  {
   "cell_type": "markdown",
   "id": "471cb19f",
   "metadata": {},
   "source": [
    "### Maximal "
   ]
  },
  {
   "cell_type": "markdown",
   "id": "b90546ee",
   "metadata": {},
   "source": [
    "#### DBSCAN"
   ]
  },
  {
   "cell_type": "code",
   "execution_count": null,
   "id": "aff201f9",
   "metadata": {},
   "outputs": [],
   "source": [
    "params = results.loc[(results.study==study_f) & (results.type=='maximal')].param.iloc[0]\n",
    "algorithms = results.loc[(results.study==study_f) & (results.type=='maximal')].algorithm.iloc[0]\n",
    "\n",
    "p = plot_prevalence(study, str(params), algorithms, covid_status, sample)"
   ]
  },
  {
   "cell_type": "markdown",
   "id": "013fb24c",
   "metadata": {},
   "source": [
    "#### Cluster sizes "
   ]
  },
  {
   "cell_type": "code",
   "execution_count": null,
   "id": "2050a79e",
   "metadata": {},
   "outputs": [],
   "source": [
    "print_cluster_size(p)"
   ]
  },
  {
   "cell_type": "markdown",
   "id": "252e0130",
   "metadata": {},
   "source": [
    "#### Agglomerative "
   ]
  },
  {
   "cell_type": "code",
   "execution_count": null,
   "id": "7787a7ae",
   "metadata": {},
   "outputs": [],
   "source": [
    "params = results.loc[(results.study==study_f) & (results.type=='maximal')].param.iloc[1].astype(int)\n",
    "algorithms = results.loc[(results.study==study_f) & (results.type=='maximal')].algorithm.iloc[1]\n",
    "\n",
    "p = plot_prevalence(study, str(params), algorithms, covid_status, sample)"
   ]
  },
  {
   "cell_type": "markdown",
   "id": "ac5f1f83",
   "metadata": {},
   "source": [
    "#### Cluster sizes "
   ]
  },
  {
   "cell_type": "code",
   "execution_count": null,
   "id": "449f5ab5",
   "metadata": {},
   "outputs": [],
   "source": [
    "print_cluster_size(p)"
   ]
  },
  {
   "cell_type": "markdown",
   "id": "a8f9b781",
   "metadata": {},
   "source": [
    "## NHSD 46"
   ]
  },
  {
   "cell_type": "markdown",
   "id": "a0fe8510",
   "metadata": {},
   "source": [
    "### Core "
   ]
  },
  {
   "cell_type": "markdown",
   "id": "d9342115",
   "metadata": {},
   "source": [
    "#### DBSCAN"
   ]
  },
  {
   "cell_type": "raw",
   "id": "0d281ddc",
   "metadata": {},
   "source": [
    "study = 'nhsd46'\n",
    "study_f = sample + '_' + study\n",
    "params = results.loc[(results.study==study_f) & (results.type=='core')].param.iloc[0]\n",
    "algorithms = results.loc[(results.study==study_f) & (results.type=='core')].algorithm.iloc[0]\n",
    "\n",
    "p = plot_prevalence(study, str(params), algorithms, covid_status, sample,core=True)"
   ]
  },
  {
   "cell_type": "markdown",
   "id": "52f9831b",
   "metadata": {},
   "source": [
    "#### Cluster sizes "
   ]
  },
  {
   "cell_type": "raw",
   "id": "6500ae15",
   "metadata": {},
   "source": [
    "print_cluster_size(p)"
   ]
  },
  {
   "cell_type": "markdown",
   "id": "13b87ad3",
   "metadata": {},
   "source": [
    "#### Agglomerative "
   ]
  },
  {
   "cell_type": "raw",
   "id": "042ef848",
   "metadata": {},
   "source": [
    "params = results.loc[(results.study==study_f) & (results.type=='core')].param.iloc[1].astype(int)\n",
    "algorithms = results.loc[(results.study==study_f) & (results.type=='core')].algorithm.iloc[1]\n",
    "\n",
    "p = plot_prevalence(study, str(params), algorithms, covid_status, sample,core=True)"
   ]
  },
  {
   "cell_type": "markdown",
   "id": "cea6f790",
   "metadata": {},
   "source": [
    "#### Cluster sizes "
   ]
  },
  {
   "cell_type": "raw",
   "id": "4af1ea7c",
   "metadata": {},
   "source": [
    "print_cluster_size(p)"
   ]
  },
  {
   "cell_type": "markdown",
   "id": "f6167c1b",
   "metadata": {},
   "source": [
    "### Maximal "
   ]
  },
  {
   "cell_type": "markdown",
   "id": "c018eba2",
   "metadata": {},
   "source": [
    "#### DBSCAN"
   ]
  },
  {
   "cell_type": "raw",
   "id": "c47aa0de",
   "metadata": {},
   "source": [
    "params = results.loc[(results.study==study_f) & (results.type=='maximal')].param.iloc[0]\n",
    "algorithms = results.loc[(results.study==study_f) & (results.type=='maximal')].algorithm.iloc[0]\n",
    "\n",
    "p = plot_prevalence(study, str(params), algorithms, covid_status, sample)"
   ]
  },
  {
   "cell_type": "markdown",
   "id": "3d62d914",
   "metadata": {},
   "source": [
    "#### Cluster sizes "
   ]
  },
  {
   "cell_type": "raw",
   "id": "38d9292a",
   "metadata": {},
   "source": [
    "print_cluster_size(p)"
   ]
  },
  {
   "cell_type": "markdown",
   "id": "d37f5be0",
   "metadata": {},
   "source": [
    "#### Agglomerative "
   ]
  },
  {
   "cell_type": "raw",
   "id": "19623eb5",
   "metadata": {},
   "source": [
    "params = results.loc[(results.study==study_f) & (results.type=='maximal')].param.iloc[1].astype(int)\n",
    "algorithms = results.loc[(results.study==study_f) & (results.type=='maximal')].algorithm.iloc[1]\n",
    "\n",
    "p = plot_prevalence(study, str(params), algorithms, covid_status, sample)"
   ]
  },
  {
   "cell_type": "markdown",
   "id": "79465f54",
   "metadata": {},
   "source": [
    "#### Cluster sizes "
   ]
  },
  {
   "cell_type": "raw",
   "id": "0a01e270",
   "metadata": {},
   "source": [
    "print_cluster_size(p)"
   ]
  },
  {
   "cell_type": "markdown",
   "id": "af98624d",
   "metadata": {},
   "source": [
    "## Pooled 7"
   ]
  },
  {
   "cell_type": "markdown",
   "id": "f344a5ed",
   "metadata": {},
   "source": [
    "### Core "
   ]
  },
  {
   "cell_type": "markdown",
   "id": "f656db4f",
   "metadata": {},
   "source": [
    "#### DBSCAN"
   ]
  },
  {
   "cell_type": "code",
   "execution_count": null,
   "id": "69167c64",
   "metadata": {},
   "outputs": [],
   "source": [
    "study = 'pooled7'\n",
    "study_f = sample + '_' + study\n",
    "params = results.loc[(results.study==study_f) & (results.type=='core')].param.iloc[0]\n",
    "algorithms = results.loc[(results.study==study_f) & (results.type=='core')].algorithm.iloc[0]\n",
    "\n",
    "p = plot_prevalence(study, str(params), algorithms, covid_status, sample, core=True)"
   ]
  },
  {
   "cell_type": "markdown",
   "id": "b1af1261",
   "metadata": {},
   "source": [
    "#### Cluster sizes "
   ]
  },
  {
   "cell_type": "code",
   "execution_count": null,
   "id": "47f01c29",
   "metadata": {},
   "outputs": [],
   "source": [
    "print_cluster_size(p)"
   ]
  },
  {
   "cell_type": "markdown",
   "id": "7fb07d00",
   "metadata": {},
   "source": [
    "#### Agglomerative "
   ]
  },
  {
   "cell_type": "code",
   "execution_count": null,
   "id": "098ac18e",
   "metadata": {},
   "outputs": [],
   "source": [
    "params = results.loc[(results.study==study_f) & (results.type=='core')].param.iloc[1].astype(int)\n",
    "algorithms = results.loc[(results.study==study_f) & (results.type=='core')].algorithm.iloc[1]\n",
    "\n",
    "p = plot_prevalence(study, str(params), algorithms, covid_status, sample,core=True)"
   ]
  },
  {
   "cell_type": "markdown",
   "id": "3d9bb45e",
   "metadata": {},
   "source": [
    "#### Cluster sizes "
   ]
  },
  {
   "cell_type": "code",
   "execution_count": null,
   "id": "a76e3a9d",
   "metadata": {},
   "outputs": [],
   "source": [
    "print_cluster_size(p)"
   ]
  },
  {
   "cell_type": "markdown",
   "id": "f9dd9f15",
   "metadata": {},
   "source": [
    "### Maximal "
   ]
  },
  {
   "cell_type": "markdown",
   "id": "864fcbc7",
   "metadata": {},
   "source": [
    "#### DBSCAN"
   ]
  },
  {
   "cell_type": "code",
   "execution_count": null,
   "id": "38b1336f",
   "metadata": {},
   "outputs": [],
   "source": [
    "params = results.loc[(results.study==study_f) & (results.type=='maximal')].param.iloc[0]\n",
    "algorithms = results.loc[(results.study==study_f) & (results.type=='maximal')].algorithm.iloc[0]\n",
    "\n",
    "p = plot_prevalence(study, str(params), algorithms)"
   ]
  },
  {
   "cell_type": "markdown",
   "id": "d225f670",
   "metadata": {},
   "source": [
    "#### Cluster sizes "
   ]
  },
  {
   "cell_type": "code",
   "execution_count": null,
   "id": "a6afc66b",
   "metadata": {},
   "outputs": [],
   "source": [
    "print_cluster_size(p)"
   ]
  },
  {
   "cell_type": "markdown",
   "id": "1bed7921",
   "metadata": {},
   "source": [
    "#### Agglomerative "
   ]
  },
  {
   "cell_type": "code",
   "execution_count": null,
   "id": "00d24d5a",
   "metadata": {},
   "outputs": [],
   "source": [
    "params = results.loc[(results.study==study_f) & (results.type=='maximal')].param.iloc[1].astype(int)\n",
    "algorithms = results.loc[(results.study==study_f) & (results.type=='maximal')].algorithm.iloc[1]\n",
    "\n",
    "p = plot_prevalence(study, str(params), algorithms, covid_status, sample)"
   ]
  },
  {
   "cell_type": "markdown",
   "id": "3fddff8b",
   "metadata": {},
   "source": [
    "#### Cluster sizes "
   ]
  },
  {
   "cell_type": "code",
   "execution_count": null,
   "id": "26685639",
   "metadata": {},
   "outputs": [],
   "source": [
    "print_cluster_size(p)"
   ]
  },
  {
   "cell_type": "markdown",
   "id": "daa9ce65",
   "metadata": {},
   "source": [
    "## Pooled All"
   ]
  },
  {
   "cell_type": "markdown",
   "id": "43dc18d1",
   "metadata": {},
   "source": [
    "### Core "
   ]
  },
  {
   "cell_type": "markdown",
   "id": "29a7e242",
   "metadata": {},
   "source": [
    "#### DBSCAN"
   ]
  },
  {
   "cell_type": "code",
   "execution_count": null,
   "id": "6ba90577",
   "metadata": {},
   "outputs": [],
   "source": [
    "study = 'pooledall'\n",
    "study_f = sample + '_' + study\n",
    "params = results.loc[(results.study==study_f) & (results.type=='core')].param.iloc[0]\n",
    "algorithms = results.loc[(results.study==study_f) & (results.type=='core')].algorithm.iloc[0]\n",
    "\n",
    "p = plot_prevalence(study, str(params), algorithms, covid_status, sample, core=True)"
   ]
  },
  {
   "cell_type": "markdown",
   "id": "4717cc0a",
   "metadata": {},
   "source": [
    "#### Cluster sizes "
   ]
  },
  {
   "cell_type": "code",
   "execution_count": null,
   "id": "390997ed",
   "metadata": {},
   "outputs": [],
   "source": [
    "print_cluster_size(p)"
   ]
  },
  {
   "cell_type": "markdown",
   "id": "a9b0d325",
   "metadata": {},
   "source": [
    "#### Agglomerative "
   ]
  },
  {
   "cell_type": "code",
   "execution_count": null,
   "id": "7441e1b3",
   "metadata": {},
   "outputs": [],
   "source": [
    "params = results.loc[(results.study==study_f) & (results.type=='core')].param.iloc[1].astype(int)\n",
    "algorithms = results.loc[(results.study==study_f) & (results.type=='core')].algorithm.iloc[1]\n",
    "\n",
    "p = plot_prevalence(study, str(params), algorithms, covid_status, sample,core=True)"
   ]
  },
  {
   "cell_type": "markdown",
   "id": "730926f8",
   "metadata": {},
   "source": [
    "#### Cluster sizes "
   ]
  },
  {
   "cell_type": "code",
   "execution_count": null,
   "id": "376084c9",
   "metadata": {},
   "outputs": [],
   "source": [
    "print_cluster_size(p)"
   ]
  },
  {
   "cell_type": "markdown",
   "id": "5aa5bc69",
   "metadata": {},
   "source": [
    "### Maximal "
   ]
  },
  {
   "cell_type": "markdown",
   "id": "a9cebe50",
   "metadata": {},
   "source": [
    "#### DBSCAN"
   ]
  },
  {
   "cell_type": "code",
   "execution_count": null,
   "id": "1923eece",
   "metadata": {},
   "outputs": [],
   "source": [
    "params = results.loc[(results.study==study_f) & (results.type=='maximal')].param.iloc[0]\n",
    "algorithms = results.loc[(results.study==study_f) & (results.type=='maximal')].algorithm.iloc[0]\n",
    "\n",
    "p = plot_prevalence(study, str(params), algorithms)"
   ]
  },
  {
   "cell_type": "markdown",
   "id": "25799f17",
   "metadata": {},
   "source": [
    "#### Cluster sizes "
   ]
  },
  {
   "cell_type": "code",
   "execution_count": null,
   "id": "f4e7829e",
   "metadata": {},
   "outputs": [],
   "source": [
    "print_cluster_size(p)"
   ]
  },
  {
   "cell_type": "markdown",
   "id": "d9a5ba48",
   "metadata": {},
   "source": [
    "#### Agglomerative "
   ]
  },
  {
   "cell_type": "code",
   "execution_count": null,
   "id": "0f959717",
   "metadata": {},
   "outputs": [],
   "source": [
    "params = results.loc[(results.study==study_f) & (results.type=='maximal')].param.iloc[1].astype(int)\n",
    "algorithms = results.loc[(results.study==study_f) & (results.type=='maximal')].algorithm.iloc[1]\n",
    "\n",
    "p = plot_prevalence(study, str(params), algorithms, covid_status, sample)"
   ]
  },
  {
   "cell_type": "markdown",
   "id": "dc31c35d",
   "metadata": {},
   "source": [
    "#### Cluster sizes "
   ]
  },
  {
   "cell_type": "code",
   "execution_count": null,
   "id": "9e32c8a7",
   "metadata": {},
   "outputs": [],
   "source": [
    "print_cluster_size(p)"
   ]
  },
  {
   "cell_type": "code",
   "execution_count": null,
   "id": "3d5c450c",
   "metadata": {},
   "outputs": [],
   "source": []
  }
 ],
 "metadata": {
  "kernelspec": {
   "display_name": "Python 3 (ipykernel)",
   "language": "python",
   "name": "python3"
  },
  "language_info": {
   "codemirror_mode": {
    "name": "ipython",
    "version": 3
   },
   "file_extension": ".py",
   "mimetype": "text/x-python",
   "name": "python",
   "nbconvert_exporter": "python",
   "pygments_lexer": "ipython3",
   "version": "3.11.5"
  }
 },
 "nbformat": 4,
 "nbformat_minor": 5
}
